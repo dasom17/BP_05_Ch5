{
  "nbformat": 4,
  "nbformat_minor": 0,
  "metadata": {
    "colab": {
      "provenance": [],
      "authorship_tag": "ABX9TyP8grluk1EpPfQ8mR4kUhCu",
      "include_colab_link": true
    },
    "kernelspec": {
      "name": "python3",
      "display_name": "Python 3"
    },
    "language_info": {
      "name": "python"
    }
  },
  "cells": [
    {
      "cell_type": "markdown",
      "metadata": {
        "id": "view-in-github",
        "colab_type": "text"
      },
      "source": [
        "<a href=\"https://colab.research.google.com/github/dasom17/BP_05_Ch5/blob/main/Untitled4.ipynb\" target=\"_parent\"><img src=\"https://colab.research.google.com/assets/colab-badge.svg\" alt=\"Open In Colab\"/></a>"
      ]
    },
    {
      "cell_type": "markdown",
      "source": [
        "1. 다음 프로그램의 출럭은 무엇인가?\n",
        "\n",
        " age = 20\n",
        ">>> if age < 20:\n",
        "\tprint('20살 미만')\n",
        "else:\n",
        "\tprint('20살 이상')\n",
        "\n",
        "힌트) age < 20은 변수 age의 값이 20 미만인 경우에만 참이 된다."
      ],
      "metadata": {
        "id": "wuo0tKa1dsKJ"
      }
    },
    {
      "cell_type": "code",
      "execution_count": null,
      "metadata": {
        "id": "kximv_LYdWFe"
      },
      "outputs": [],
      "source": []
    },
    {
      "cell_type": "markdown",
      "source": [
        "2. 1번 문제에서 age가 30 이상이고 50 이하인 것을 체크하려면 어떻게 해야 하는가?\n",
        "\n",
        "힌트) 논리 연사자 and를 사용해야 한다."
      ],
      "metadata": {
        "id": "4O7eJQI-gPIG"
      }
    },
    {
      "cell_type": "markdown",
      "source": [
        "3. 사용자에게 현재 온도를 질문하고 온도가 25도 이상이면 반바지를 추천하고 25도 미만이면 긴바지를 추천하는 프로그램을 작성해보자."
      ],
      "metadata": {
        "id": "E5tzzi3gggK2"
      }
    },
    {
      "cell_type": "markdown",
      "source": [
        "4. 학생의 시험 점수를 물어보고 시험 점수가 90점 이상이면 A, 80점 이상이면 B, 70점 이상이면 C, 60점 이상이면 D, 그외의 점수이면 F를 주는 프로그램을 작성하라.\n",
        "\n",
        "힌트) if ... elif ... else 구문을 사용한다."
      ],
      "metadata": {
        "id": "-K0IdmY9gnvY"
      }
    },
    {
      "cell_type": "markdown",
      "source": [
        "5. 난수를 사용하여 1부터 100 사이의 숫자를 사용하는 뺼셈 문제를 생성하고 사용자에게 물어본 후에 사용자의 답변이 올바른지를 검사하는 프로그램을 작성하라.\n",
        "\n",
        "힌트) 1부터 100 사이의 난수는 다음과 같이 구할 수 있다.\n",
        "\n",
        "import random\n",
        "x = random.randint(1, 100)"
      ],
      "metadata": {
        "id": "dSZnXlwtg2tQ"
      }
    },
    {
      "cell_type": "markdown",
      "source": [
        "6. 사용자로부터 정수를 받아서 이 정수가 2와 3으로 나누어떨어질 수 있는지를 출럭하라.\n",
        "\n",
        "힌트) 2와 3으로 모두 나누어떨어지는 것은 n%2==0 and n%3==0으로 검사할 수 있다."
      ],
      "metadata": {
        "id": "lMnRa-nRhmbd"
      }
    },
    {
      "cell_type": "markdown",
      "source": [
        "7.2자리 숫자로 이루어진 복귄이 있다. 사용자가 가지고 있는 복권 번호가 2자리 모두 일치하면 100만원을 받는다. 2자리 중에서 하나만 일치하면 50만원을 받는다. 하나도 일치하지 않으면 상금은 없다. 복귄 당첨 번호는 난수로 생성히고 사용자의 입럭에 따라서 상금이 얼마인지를 출럭하는 프로그램을 작성하라.\n",
        "\n",
        "힌트) 각 자리수는 // 연산자와 % 연산자로 계산할 수 있다.\n",
        "digit1 = solution // 10\n",
        "digit2 = solution % 10"
      ],
      "metadata": {
        "id": "neWuDFUshz0c"
      }
    },
    {
      "cell_type": "markdown",
      "source": [
        "8. 사용자로부터 2개의 원에 대한 정보를 받아서 화면에 원을 그린 후에 조건문을 사용하여 큰 원 안에 작은 원이 포함되는지를 판단하는 프로그램을 작성하라.\n",
        "\n",
        "힌트) 원의 중심점 사이의 거리를 계산하고 이것을 (r1+r2)와 비교한다."
      ],
      "metadata": {
        "id": "0yJLpIxBi5T8"
      }
    }
  ]
}