{
  "nbformat": 4,
  "nbformat_minor": 0,
  "metadata": {
    "colab": {
      "provenance": [],
      "authorship_tag": "ABX9TyNUJIti1GqgAYrxMdmz5wAy",
      "include_colab_link": true
    },
    "kernelspec": {
      "name": "python3",
      "display_name": "Python 3"
    },
    "language_info": {
      "name": "python"
    }
  },
  "cells": [
    {
      "cell_type": "markdown",
      "metadata": {
        "id": "view-in-github",
        "colab_type": "text"
      },
      "source": [
        "<a href=\"https://colab.research.google.com/github/dasom17/BP_05_Ch5/blob/main/BP_05_Ch5.ipynb\" target=\"_parent\"><img src=\"https://colab.research.google.com/assets/colab-badge.svg\" alt=\"Open In Colab\"/></a>"
      ]
    },
    {
      "cell_type": "markdown",
      "source": [
        "1. 다음 프로그램의 출럭은 무엇인가?\n",
        "\n",
        "age = 20\n",
        "if age < 20:\n",
        "\tprint('20살 미만')\n",
        "else:\n",
        "\tprint('20살 이상')\n",
        "\n",
        "힌트) age < 20은 변수 age의 값이 20 미만인 경우에만 참이 된다."
      ],
      "metadata": {
        "id": "wuo0tKa1dsKJ"
      }
    },
    {
      "cell_type": "code",
      "execution_count": null,
      "metadata": {
        "colab": {
          "base_uri": "https://localhost:8080/"
        },
        "id": "kximv_LYdWFe",
        "outputId": "f4fe5471-d95d-41ea-ebd9-332ab30a13b9"
      },
      "outputs": [
        {
          "output_type": "stream",
          "name": "stdout",
          "text": [
            "20살 이상\n"
          ]
        }
      ],
      "source": [
        "age = 20\n",
        "if age < 20:\n",
        "\tprint('20살 미만')\n",
        "else:\n",
        "\tprint('20살 이상')"
      ]
    },
    {
      "cell_type": "markdown",
      "source": [
        "2. 1번 문제에서 age가 30 이상이고 50 이하인 것을 체크하려면 어떻게 해야 하는가?\n",
        "\n",
        "힌트) 논리 연사자 and를 사용해야 한다."
      ],
      "metadata": {
        "id": "4O7eJQI-gPIG"
      }
    },
    {
      "cell_type": "code",
      "source": [
        "#age = 20\n",
        "#if age >= 30 and age <= 50:\n",
        "#  print('30살 이상이고 50살 이하')\n",
        "#해설을 적었으나 출력되는 것이 없음\n",
        "age = 40\n",
        "if age < 20:\n",
        "\tprint('20살 미만')\n",
        "else:\n",
        " if age >= 30 and age <= 50:\n",
        "   print('30살 이상이고 50살 이하')\n",
        "#1과 2를 합쳐 코딩해보았으나 20살 이상일 경우가 출력되지 않음.\n",
        "\n",
        "#질문 후 해설\n",
        "#if로 시작했으면 else 문이 있어야 함."
      ],
      "metadata": {
        "colab": {
          "base_uri": "https://localhost:8080/"
        },
        "id": "f1zz0zYYj-DG",
        "outputId": "71494a4d-755d-4527-e1c2-d89756b9ed6c"
      },
      "execution_count": null,
      "outputs": [
        {
          "output_type": "stream",
          "name": "stdout",
          "text": [
            "30살 이상이고 50살 이하\n"
          ]
        }
      ]
    },
    {
      "cell_type": "markdown",
      "source": [
        "3. 사용자에게 현재 온도를 질문하고 온도가 25도 이상이면 반바지를 추천하고 25도 미만이면 긴바지를 추천하는 프로그램을 작성해보자."
      ],
      "metadata": {
        "id": "E5tzzi3gggK2"
      }
    },
    {
      "cell_type": "code",
      "source": [
        "temp = int(input(\"현재 온도를 입력하시오: \"))\n",
        "\n",
        "if temp >= 25:\n",
        "  print(\"반바지를 입으세요.\")\n",
        "else:\n",
        "  print(\"긴바지를 입으세요.\")"
      ],
      "metadata": {
        "colab": {
          "base_uri": "https://localhost:8080/"
        },
        "id": "qSp2uiEWkMLt",
        "outputId": "f667f2fa-2c47-42d0-af99-64a845a24874"
      },
      "execution_count": null,
      "outputs": [
        {
          "output_type": "stream",
          "name": "stdout",
          "text": [
            "현재 온도를 입력하시오: 25\n",
            "반바지를 입으세요.\n"
          ]
        }
      ]
    },
    {
      "cell_type": "markdown",
      "source": [
        "4. 학생의 시험 점수를 물어보고 시험 점수가 90점 이상이면 A, 80점 이상이면 B, 70점 이상이면 C, 60점 이상이면 D, 그외의 점수이면 F를 주는 프로그램을 작성하라.\n",
        "\n",
        "힌트) if ... elif ... else 구문을 사용한다."
      ],
      "metadata": {
        "id": "-K0IdmY9gnvY"
      }
    },
    {
      "cell_type": "code",
      "source": [
        "score = int(input(\"성적을 입력하시오: \"))\n",
        "\n",
        "if score >= 90:\n",
        "  print(\"A학점입니다.\")\n",
        "elif score >= 80:\n",
        "  print(\"B학점입니다.\")\n",
        "elif score >= 70:\n",
        "  print(\"C학점입니다.\")\n",
        "elif score >= 60:\n",
        "  print(\"D학점입니다.\")\n",
        "else :\n",
        "  print(\"F학점입니다.\")"
      ],
      "metadata": {
        "colab": {
          "base_uri": "https://localhost:8080/"
        },
        "id": "YU_7UkFMkiY3",
        "outputId": "553b3352-72d1-462a-e2cc-0f717584e285"
      },
      "execution_count": null,
      "outputs": [
        {
          "output_type": "stream",
          "name": "stdout",
          "text": [
            "성적을 입력하시오: 55\n",
            "F학점입니다.\n"
          ]
        }
      ]
    },
    {
      "cell_type": "markdown",
      "source": [
        "5. 난수를 사용하여 1부터 100 사이의 숫자를 사용하는 뺼셈 문제를 생성하고 사용자에게 물어본 후에 사용자의 답변이 올바른지를 검사하는 프로그램을 작성하라.\n",
        "\n",
        "힌트) 1부터 100 사이의 난수는 다음과 같이 구할 수 있다.\n",
        "\n",
        "import random\n",
        "x = random.randint(1, 100)"
      ],
      "metadata": {
        "id": "dSZnXlwtg2tQ"
      }
    },
    {
      "cell_type": "code",
      "source": [
        "import random\n",
        "x = random.randint(1, 100)\n",
        "y = random.randint(1, 100)\n",
        "\n",
        "ans = int(input(str(x)+\"-\"+str(y)+\"=\"))\n",
        "\n",
        "if ans == x - y:\n",
        "  print(\"맞았습니다.\")\n",
        "else :\n",
        "  print(\"틀렸습니다.\")\n",
        "\n",
        "#맞는 경우 확인\n",
        "#63-16=47\n",
        "#맞았습니다."
      ],
      "metadata": {
        "colab": {
          "base_uri": "https://localhost:8080/"
        },
        "id": "P9wwYb83tcj_",
        "outputId": "ff2b985e-2418-466b-98ca-5a3a1d486aec"
      },
      "execution_count": null,
      "outputs": [
        {
          "output_type": "stream",
          "name": "stdout",
          "text": [
            "37-11=11\n",
            "틀렸습니다.\n"
          ]
        }
      ]
    },
    {
      "cell_type": "markdown",
      "source": [
        "6. 사용자로부터 정수를 받아서 이 정수가 2와 3으로 나누어떨어질 수 있는지를 출럭하라.\n",
        "\n",
        "힌트) 2와 3으로 모두 나누어떨어지는 것은 n%2==0 and n%3==0으로 검사할 수 있다."
      ],
      "metadata": {
        "id": "lMnRa-nRhmbd"
      }
    },
    {
      "cell_type": "code",
      "source": [
        "n = int(input(\"정수를 입력하시오: \"))\n",
        "\n",
        "if n%2==0 and n%3==0:\n",
        "  print(\"2와 3으로 나누어 떨어집니다.\")\n",
        "else :\n",
        "  print(\"2와 3으로 나누어 떨어지지 않습니다.\")\n",
        "\n",
        "#else인 경우 확인\n",
        "#정수를 입력하시오: 7\n",
        "#2와 3으로 나누어 떨어지지 않습니다."
      ],
      "metadata": {
        "colab": {
          "base_uri": "https://localhost:8080/"
        },
        "id": "I4557YSAuwO2",
        "outputId": "4557c8c6-fcf7-4be9-c13f-9acbc417a041"
      },
      "execution_count": null,
      "outputs": [
        {
          "output_type": "stream",
          "name": "stdout",
          "text": [
            "정수를 입력하시오: 54\n",
            "2와 3으로 나누어 떨어집니다.\n"
          ]
        }
      ]
    },
    {
      "cell_type": "markdown",
      "source": [
        "7. 2자리 숫자로 이루어진 복귄이 있다. 사용자가 가지고 있는 복권 번호가 2자리 모두 일치하면 100만원을 받는다. 2자리 중에서 하나만 일치하면 50만원을 받는다. 하나도 일치하지 않으면 상금은 없다. 복귄 당첨 번호는 난수로 생성히고 사용자의 입럭에 따라서 상금이 얼마인지를 출럭하는 프로그램을 작성하라.\n",
        "\n",
        "힌트) 각 자리수는 // 연산자와 % 연산자로 계산할 수 있다.\n",
        "digit1 = solution // 10\n",
        "digit2 = solution % 10"
      ],
      "metadata": {
        "id": "neWuDFUshz0c"
      }
    },
    {
      "cell_type": "code",
      "source": [
        "import random\n",
        "\n",
        "solution = random.randint(0, 99)\n",
        "\n",
        "user = int(input(\"복권번호를 입력하시오.(0에서 99사이): \"))\n",
        "\n",
        "digit1 = solution // 10\n",
        "digit2 = solution % 10\n",
        "\n",
        "u_digit1 = user // 10\n",
        "u_digit2 = user % 10\n",
        "#윗부분 u_digit1 = user % 10으로 작성하여 오류 발생했었음\n",
        "print(\"당첨번호는\", solution, \"입니다.\")\n",
        "\n",
        "if (digit1 == u_digit1 and digit2 == u_digit2):\n",
        "  print(\"상금은 100만원입니다.\")\n",
        "elif (digit1 == u_digit1\n",
        "      or digit1 == u_digit2\n",
        "      or digit2 == u_digit1\n",
        "      or digit2 == u_digit2):\n",
        "  print(\"상금은 50만원입니다.\")\n",
        "else:\n",
        "  print(\"상금은 없습니다.\")"
      ],
      "metadata": {
        "id": "tDtE5koqviRr",
        "outputId": "26b01d42-c023-4b51-d738-f29489a37607",
        "colab": {
          "base_uri": "https://localhost:8080/"
        }
      },
      "execution_count": 9,
      "outputs": [
        {
          "output_type": "stream",
          "name": "stdout",
          "text": [
            "복권번호를 입력하시오.(0에서 99사이): 67\n",
            "당첨번호는 37 입니다.\n",
            "상금은 50만원입니다.\n"
          ]
        }
      ]
    },
    {
      "cell_type": "markdown",
      "source": [
        "8. 사용자로부터 2개의 원에 대한 정보를 받아서 화면에 원을 그린 후에 조건문을 사용하여 큰 원 안에 작은 원이 포함되는지를 판단하는 프로그램을 작성하라.\n",
        "\n",
        "힌트) 원의 중심점 사이의 거리를 계산하고 이것을 (r1+r2)와 비교한다."
      ],
      "metadata": {
        "id": "0yJLpIxBi5T8"
      }
    },
    {
      "cell_type": "code",
      "source": [
        "import turtle\n",
        "t = turtle.Turtle()\n",
        "t.shape(\"turtle\")\n",
        "x1 = int(input(:\"큰 원의 중심좌표 x1: \"))\n",
        "y1 = int(input(:\"큰 원의 중심좌표 y1: \"))\n",
        "r1 = int(input(:\"큰 원의 반지름: \"))\n",
        "x2 = int(input(:\"작은 원의 중심좌표 x2: \"))\n",
        "y2 = int(input(:\"작은 원의 중심좌표 y2: \"))\n",
        "r2 = int(input(:\"작은 원의 반지름: \"))\n",
        "\n",
        "t.penup()\n",
        "t.goto(x1,y1)\n",
        "t.pendown()\n",
        "t.circle(r1)\n",
        "\n",
        "t.penup()\n",
        "t.goto(x2,y2)\n",
        "t.pendown()\n",
        "t.circle(r2)\n",
        "\n",
        "dist = ((x1 - x2) * (x1 - x2) + (y1 - y2) * (y1 - y2)) ** 0.5\n",
        "if dist <= r1-r2:\n",
        "  turtle.write(\"두번째 원이 첫번째 원의 내부에 있습니다.\")\n",
        "elif dist <= r1+r2:\n",
        "  turtle.write(\"두번째 원이 첫번째 원과 겹칩니다.\")\n",
        "else:\n",
        "  turtle.write(\"두번째 원이 첫번째 원과 겹치지 않습니다.\")\n",
        "t._sxreen.exitonclick"
      ],
      "metadata": {
        "id": "MQpAcPrKQyP5",
        "outputId": "382fa8c3-cc77-4fa8-9e33-2d6475bf9465",
        "colab": {
          "base_uri": "https://localhost:8080/",
          "height": 136
        }
      },
      "execution_count": 11,
      "outputs": [
        {
          "output_type": "error",
          "ename": "SyntaxError",
          "evalue": "ignored",
          "traceback": [
            "\u001b[0;36m  File \u001b[0;32m\"<ipython-input-11-d8ccddad7c42>\"\u001b[0;36m, line \u001b[0;32m4\u001b[0m\n\u001b[0;31m    x1 = int(input(:\"큰 원의 중심좌표 x1: \"))\u001b[0m\n\u001b[0m                   ^\u001b[0m\n\u001b[0;31mSyntaxError\u001b[0m\u001b[0;31m:\u001b[0m invalid syntax\n"
          ]
        }
      ]
    }
  ]
}